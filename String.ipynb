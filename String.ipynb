{
 "cells": [
  {
   "cell_type": "code",
   "execution_count": 7,
   "metadata": {},
   "outputs": [
    {
     "name": "stdout",
     "output_type": "stream",
     "text": [
      "A\n",
      "r\n",
      "c\n",
      "h\n",
      "a\n",
      "h\n",
      "n\n",
      "a\n",
      "('Archahna', ' ', 'k')\n",
      "('Archahna', ' ', 'r')\n",
      "('Archahna', ' ', 'i')\n",
      "('Archahna', ' ', 't')\n",
      "('Archahna', ' ', 'h')\n",
      "('Archahna', ' ', 'i')\n",
      "('Archahna', ' ', 'k')\n"
     ]
    }
   ],
   "source": [
    "#string manupulations\n",
    "s= \"Archahna\"\n",
    "j=\"krithik\"\n",
    "for i in s:\n",
    "    print(i)\n",
    "for n in j:\n",
    "    print(s,\" \",n,)"
   ]
  },
  {
   "cell_type": "code",
   "execution_count": 19,
   "metadata": {},
   "outputs": [
    {
     "name": "stdout",
     "output_type": "stream",
     "text": [
      "Akrrcihtahniak\n"
     ]
    }
   ],
   "source": [
    "s = \"Archana\"\n",
    "j = \"krithik\"\n",
    "\n",
    "# Ensure both strings are of equal length\n",
    "#if len(s) != len(j):\n",
    "    #print(\"Strings must be of equal length to interleave.\")\n",
    "#else:\n",
    "interleaved = ''\n",
    "for i in range(len(s)):\n",
    "    interleaved += s[i] + j[i]\n",
    "\n",
    "print(interleaved)\n"
   ]
  },
  {
   "cell_type": "code",
   "execution_count": 24,
   "metadata": {},
   "outputs": [
    {
     "name": "stdout",
     "output_type": "stream",
     "text": [
      "Ak\n",
      "Akrr\n",
      "Akrrci\n",
      "Akrrciht\n",
      "Akrrcihtah\n",
      "Akrrcihtahni\n",
      "Akrrcihtahniak\n"
     ]
    }
   ],
   "source": [
    "s= \"Archana\"\n",
    "j=\"krithik\"\n",
    "concat = ''\n",
    "for i in range(len(s)):\n",
    "    concat+= s[i] + j[i]\n",
    "    print(concat)\n"
   ]
  },
  {
   "cell_type": "code",
   "execution_count": 33,
   "metadata": {},
   "outputs": [
    {
     "name": "stdout",
     "output_type": "stream",
     "text": [
      "**\n",
      "****\n",
      "******\n",
      "********\n",
      "**********\n",
      "************\n"
     ]
    }
   ],
   "source": [
    "s= \"******\"\n",
    "j= \"******\"\n",
    "concat = ''\n",
    "for i in range(len(s)):\n",
    "    concat+= s[i] + j[i]\n",
    "    print(concat)"
   ]
  },
  {
   "cell_type": "raw",
   "metadata": {},
   "source": [
    "DAta types \n",
    "int\n",
    "float\n",
    "str\n",
    "complex\n",
    "bollean\n",
    "byte\n",
    "bytearray - mut\n",
    "list    - mutable []\n",
    "tupple ()\n",
    "set   - mutable {}\n",
    "frozenset\n",
    "dict  - mutable\n",
    "range\n",
    "none"
   ]
  },
  {
   "cell_type": "code",
   "execution_count": null,
   "metadata": {},
   "outputs": [],
   "source": [
    "String manupulations:\n",
    "    Accessing a string - indexing or slice operator"
   ]
  },
  {
   "cell_type": "code",
   "execution_count": 40,
   "metadata": {},
   "outputs": [
    {
     "name": "stdout",
     "output_type": "stream",
     "text": [
      "the character present at positive index 0 and negative index -7 is A\n",
      "the character present at positive index 1 and negative index -6 is r\n",
      "the character present at positive index 2 and negative index -5 is c\n",
      "the character present at positive index 3 and negative index -4 is h\n",
      "the character present at positive index 4 and negative index -3 is a\n",
      "the character present at positive index 5 and negative index -2 is n\n",
      "the character present at positive index 6 and negative index -1 is a\n"
     ]
    }
   ],
   "source": [
    "#Question print the index of a string \n",
    "A = \"Archana\" #string input\n",
    "i=0 #setting index as 0\n",
    "for x in A:\n",
    "    print(\"the character present at positive index {} and negative index {} is {}\".format(i,i-len(A),x))\n",
    "    i+=1"
   ]
  },
  {
   "cell_type": "raw",
   "metadata": {},
   "source": [
    "#functions in string\n",
    "len() - LENGTH OF THE STRING\n",
    "strip() REMOVE SPACES FROM STRING\n",
    "lstrip() - REMOVE SPACE FROM LEFT\n",
    "rstrip() - rEMOVE sPACE FROM RIGHT\n",
    "index() - TO FIND THE INDEX OR POSITION OF A CHARACTER IN A STRING\n",
    "find() - fIND THE iNDEX OF A CHARACTER\n",
    "rfind() fIND FROM rIGHT\n",
    "rINDEX() - FIND FROM RIGHT\n",
    "count() - COUNT THE NUMBER OF OCCURANCE OF A CHARACTER IN A STRING\n",
    "split() - SPLIT THE STRING INTO A LIST ELEMENTS \n",
    "upper() - CHANGE THE CASE OF THE STRING TO UPPER CASE\n",
    "lower() - LOWER CASE\n",
    "swapcase()\n",
    "title()\n",
    "capitalize()\n",
    "remove() - REMOVE SPECIFIC CHARACTERS FROM THE STRING \n",
    "REPLACE() - REPLACE SPECIFIC CHARACTERS FROM A STRING\n",
    "Join() - \"-\".join(t)\n",
    "isalnum()\n",
    "isalpha\n",
    "isdigit()\n",
    "islower()\n",
    "isupper()\n",
    "istitle()\n",
    "isspace()"
   ]
  },
  {
   "cell_type": "code",
   "execution_count": 48,
   "metadata": {},
   "outputs": [
    {
     "name": "stdout",
     "output_type": "stream",
     "text": [
      "[1, 2, 3, 4, 5, 1, 2, 3, 4, 5]\n"
     ]
    }
   ],
   "source": [
    "A = [1, 2, 3, 4, 5]\n",
    "B = [1, 2, 3, 4, 5]\n",
    "A.extend(B)\n",
    "print(A)"
   ]
  },
  {
   "cell_type": "code",
   "execution_count": 55,
   "metadata": {},
   "outputs": [
    {
     "name": "stdout",
     "output_type": "stream",
     "text": [
      "['A', 'B', 'C', 'D', 'E', 1, 2, 3, 4, 5]\n"
     ]
    },
    {
     "data": {
      "text/plain": [
       "list"
      ]
     },
     "execution_count": 55,
     "metadata": {},
     "output_type": "execute_result"
    }
   ],
   "source": [
    "A= ['A', 'B', 'C', 'D', 'E']\n",
    "B= [1, 2, 3, 4, 5]\n",
    "A.extend(B)\n",
    "print(A)\n",
    "type(A)"
   ]
  },
  {
   "cell_type": "code",
   "execution_count": 76,
   "metadata": {},
   "outputs": [
    {
     "name": "stdout",
     "output_type": "stream",
     "text": [
      "Forward direction\n",
      "The character at index 0 in forward direction is S in letter Skanda\n",
      "The character at index 1 in forward direction is k in letter Skanda\n",
      "The character at index 2 in forward direction is a in letter Skanda\n",
      "The character at index 3 in forward direction is n in letter Skanda\n",
      "The character at index 4 in forward direction is d in letter Skanda\n",
      "The character at index 5 in forward direction is a in letter Skanda\n",
      "Backward direction\n",
      "The character at index -1 in forward direction is a in letter Skanda\n",
      "The character at index -2 in forward direction is d in letter Skanda\n",
      "The character at index -3 in forward direction is n in letter Skanda\n",
      "The character at index -4 in forward direction is a in letter Skanda\n",
      "The character at index -5 in forward direction is k in letter Skanda\n",
      "The character at index -6 in forward direction is S in letter Skanda\n"
     ]
    }
   ],
   "source": [
    "#write a program to access each character of string in forward and backward direction\n",
    "\n",
    "C = \"Skanda\"\n",
    "i=0\n",
    "print(\"Forward direction\")\n",
    "for x in C:\n",
    "    print(\"The character at index {} in forward direction is {} in letter {}\".format(i,x,C))\n",
    "    i=i+1\n",
    "print(\"Backward direction\")\n",
    "p=-1\n",
    "for j in C[::-1]:\n",
    "    print(\"The character at index {} in forward direction is {} in letter {}\".format(p,j,C))\n",
    "    p=p-1"
   ]
  },
  {
   "cell_type": "code",
   "execution_count": 78,
   "metadata": {},
   "outputs": [
    {
     "name": "stdout",
     "output_type": "stream",
     "text": [
      "not same\n"
     ]
    }
   ],
   "source": [
    "#string comparision\n",
    "A= \"AB\"\n",
    "B = \"CD\"\n",
    "if A==B:\n",
    "    print(\"A and B are same\")\n",
    "else:\n",
    "    print(\"not same\")"
   ]
  },
  {
   "cell_type": "code",
   "execution_count": null,
   "metadata": {},
   "outputs": [],
   "source": [
    "#remove spaces\n",
    "strip()\n",
    "lstrip()\n",
    "rstrip()"
   ]
  },
  {
   "cell_type": "code",
   "execution_count": 80,
   "metadata": {},
   "outputs": [
    {
     "name": "stdout",
     "output_type": "stream",
     "text": [
      "enter a string:AAAAA AAAA    \n"
     ]
    },
    {
     "data": {
      "text/plain": [
       "'AAAAA AAAA'"
      ]
     },
     "execution_count": 80,
     "metadata": {},
     "output_type": "execute_result"
    }
   ],
   "source": [
    "city = raw_input(\"enter a string:\")\n",
    "city.strip()\n",
    "#city.lstrip()\n",
    "#city.rstrip()"
   ]
  },
  {
   "cell_type": "code",
   "execution_count": null,
   "metadata": {},
   "outputs": [],
   "source": [
    "#finding substring\n",
    "Forward direction\n",
    "find()\n",
    "index()\n",
    "Backward direction\n",
    "rfind()\n",
    "rindex()"
   ]
  },
  {
   "cell_type": "code",
   "execution_count": 90,
   "metadata": {},
   "outputs": [
    {
     "data": {
      "text/plain": [
       "-1"
      ]
     },
     "execution_count": 90,
     "metadata": {},
     "output_type": "execute_result"
    }
   ],
   "source": [
    "A= \"Archana\"\n",
    "A.find(\"e\")\n",
    "#write a program to find all as in a string \n"
   ]
  },
  {
   "cell_type": "code",
   "execution_count": 95,
   "metadata": {},
   "outputs": [
    {
     "data": {
      "text/plain": [
       "0"
      ]
     },
     "execution_count": 95,
     "metadata": {},
     "output_type": "execute_result"
    }
   ],
   "source": [
    "X=\"AAAAAABBB\"\n",
    "X.index(\"A\")"
   ]
  },
  {
   "cell_type": "code",
   "execution_count": null,
   "metadata": {},
   "outputs": [],
   "source": [
    "#write a program to display all positions of substring in a given main string\n"
   ]
  },
  {
   "cell_type": "code",
   "execution_count": 96,
   "metadata": {},
   "outputs": [
    {
     "data": {
      "text/plain": [
       "6"
      ]
     },
     "execution_count": 96,
     "metadata": {},
     "output_type": "execute_result"
    }
   ],
   "source": [
    "X=\"AAAAAABBB\"\n",
    "X.count(\"A\")"
   ]
  },
  {
   "cell_type": "code",
   "execution_count": 98,
   "metadata": {},
   "outputs": [
    {
     "name": "stdout",
     "output_type": "stream",
     "text": [
      "Enter a string: Archana\n",
      "Enter a substring to count: A\n",
      "('Number of occurrences:', 1)\n"
     ]
    }
   ],
   "source": [
    "def count_substring(string, substring):\n",
    "    count = 0\n",
    "    start = 0\n",
    "    \n",
    "    # Loop until no substring is found\n",
    "    while True:\n",
    "        # Find the next occurrence of substring\n",
    "        pos = string.find(substring, start)\n",
    "        \n",
    "        # If no occurrence is found, break the loop\n",
    "        if pos == -1:\n",
    "            break\n",
    "        \n",
    "        # Increment count and move start index to pos + 1 to find next occurrence\n",
    "        count += 1\n",
    "        start = pos + 1\n",
    "    \n",
    "    return count\n",
    "\n",
    "# Example usage:\n",
    "string = raw_input(\"Enter a string: \")\n",
    "substring = raw_input(\"Enter a substring to count: \")\n",
    "\n",
    "print(\"Number of occurrences:\", count_substring(string, substring))"
   ]
  },
  {
   "cell_type": "code",
   "execution_count": 99,
   "metadata": {},
   "outputs": [
    {
     "name": "stdout",
     "output_type": "stream",
     "text": [
      "Enter a string: Archana\n"
     ]
    },
    {
     "ename": "NameError",
     "evalue": "name 'Archana' is not defined",
     "output_type": "error",
     "traceback": [
      "\u001b[1;31m---------------------------------------------------------------------------\u001b[0m",
      "\u001b[1;31mNameError\u001b[0m                                 Traceback (most recent call last)",
      "\u001b[1;32m<ipython-input-99-7d153c23ab7f>\u001b[0m in \u001b[0;36m<module>\u001b[1;34m()\u001b[0m\n\u001b[0;32m     12\u001b[0m \u001b[1;33m\u001b[0m\u001b[0m\n\u001b[0;32m     13\u001b[0m \u001b[1;31m# Example usage:\u001b[0m\u001b[1;33m\u001b[0m\u001b[1;33m\u001b[0m\u001b[0m\n\u001b[1;32m---> 14\u001b[1;33m \u001b[0mstring\u001b[0m \u001b[1;33m=\u001b[0m \u001b[0minput\u001b[0m\u001b[1;33m(\u001b[0m\u001b[1;34m\"Enter a string: \"\u001b[0m\u001b[1;33m)\u001b[0m\u001b[1;33m\u001b[0m\u001b[0m\n\u001b[0m\u001b[0;32m     15\u001b[0m \u001b[0msubstring\u001b[0m \u001b[1;33m=\u001b[0m \u001b[0minput\u001b[0m\u001b[1;33m(\u001b[0m\u001b[1;34m\"Enter a substring to count: \"\u001b[0m\u001b[1;33m)\u001b[0m\u001b[1;33m\u001b[0m\u001b[0m\n\u001b[0;32m     16\u001b[0m \u001b[1;33m\u001b[0m\u001b[0m\n",
      "\u001b[1;32mC:\\Users\\Admin\\Anaconda2\\lib\\site-packages\\ipykernel\\ipkernel.pyc\u001b[0m in \u001b[0;36m<lambda>\u001b[1;34m(prompt)\u001b[0m\n\u001b[0;32m    174\u001b[0m             \u001b[0mself\u001b[0m\u001b[1;33m.\u001b[0m\u001b[0m_sys_eval_input\u001b[0m \u001b[1;33m=\u001b[0m \u001b[0mbuiltin_mod\u001b[0m\u001b[1;33m.\u001b[0m\u001b[0minput\u001b[0m\u001b[1;33m\u001b[0m\u001b[0m\n\u001b[0;32m    175\u001b[0m             \u001b[0mbuiltin_mod\u001b[0m\u001b[1;33m.\u001b[0m\u001b[0mraw_input\u001b[0m \u001b[1;33m=\u001b[0m \u001b[0mself\u001b[0m\u001b[1;33m.\u001b[0m\u001b[0mraw_input\u001b[0m\u001b[1;33m\u001b[0m\u001b[0m\n\u001b[1;32m--> 176\u001b[1;33m             \u001b[0mbuiltin_mod\u001b[0m\u001b[1;33m.\u001b[0m\u001b[0minput\u001b[0m \u001b[1;33m=\u001b[0m \u001b[1;32mlambda\u001b[0m \u001b[0mprompt\u001b[0m\u001b[1;33m=\u001b[0m\u001b[1;34m''\u001b[0m\u001b[1;33m:\u001b[0m \u001b[0meval\u001b[0m\u001b[1;33m(\u001b[0m\u001b[0mself\u001b[0m\u001b[1;33m.\u001b[0m\u001b[0mraw_input\u001b[0m\u001b[1;33m(\u001b[0m\u001b[0mprompt\u001b[0m\u001b[1;33m)\u001b[0m\u001b[1;33m)\u001b[0m\u001b[1;33m\u001b[0m\u001b[0m\n\u001b[0m\u001b[0;32m    177\u001b[0m         \u001b[0mself\u001b[0m\u001b[1;33m.\u001b[0m\u001b[0m_save_getpass\u001b[0m \u001b[1;33m=\u001b[0m \u001b[0mgetpass\u001b[0m\u001b[1;33m.\u001b[0m\u001b[0mgetpass\u001b[0m\u001b[1;33m\u001b[0m\u001b[0m\n\u001b[0;32m    178\u001b[0m         \u001b[0mgetpass\u001b[0m\u001b[1;33m.\u001b[0m\u001b[0mgetpass\u001b[0m \u001b[1;33m=\u001b[0m \u001b[0mself\u001b[0m\u001b[1;33m.\u001b[0m\u001b[0mgetpass\u001b[0m\u001b[1;33m\u001b[0m\u001b[0m\n",
      "\u001b[1;32mC:\\Users\\Admin\\Anaconda2\\lib\\site-packages\\ipykernel\\ipkernel.pyc\u001b[0m in \u001b[0;36m<module>\u001b[1;34m()\u001b[0m\n",
      "\u001b[1;31mNameError\u001b[0m: name 'Archana' is not defined"
     ]
    }
   ],
   "source": [
    "def count_substring(string, substring):\n",
    "    count = 0\n",
    "    sub_len = len(substring)\n",
    "    \n",
    "    # Loop through the main string using a for loop\n",
    "    for i in range(len(string)):\n",
    "        # Check if the substring starting at index i matches the target substring\n",
    "        if string[i:i+sub_len] == substring:\n",
    "            count += 1\n",
    "    \n",
    "    return count\n",
    "\n",
    "# Example usage:\n",
    "string = input(\"Enter a string: \")\n",
    "substring = input(\"Enter a substring to count: \")\n",
    "\n",
    "print(\"Number of occurrences:\", count_substring(string, substring))"
   ]
  },
  {
   "cell_type": "raw",
   "metadata": {},
   "source": [
    "#List Functions\n",
    "eval()\n",
    "list()\n",
    "split()\n",
    "len()\n",
    "count()\n",
    "index()\n",
    "append()-add items to the list\n",
    "insert() - add items to the list at specific index location\n",
    "extend() - add one list elements to other list \n",
    "remove()\n",
    "pop()\n",
    "reversed()-reverse the list\n",
    "sort() - sort a list\n",
    "copy()\n",
    "a+b\n",
    "X*3\n",
    "in - membership operator\n",
    "not in - membership operator\n",
    "clear()\n",
    "nested list\n",
    "List comprehension\n",
    "\n"
   ]
  },
  {
   "cell_type": "code",
   "execution_count": null,
   "metadata": {},
   "outputs": [],
   "source": [
    "#Tupple\n",
    "len()\n",
    "count()\n",
    "index()\n",
    "sorted()\n",
    "min()\n",
    "max()\n",
    "cmp()\n"
   ]
  },
  {
   "cell_type": "code",
   "execution_count": null,
   "metadata": {},
   "outputs": [],
   "source": [
    "#set\n",
    "add()\n",
    "update()\n",
    "copy()\n",
    "pop()\n",
    "remove()\n",
    "discard()\n",
    "clear()\n",
    "union()\n",
    "intersection()\n",
    "difference()\n",
    "symmetric difference()\n",
    "in\n",
    "not in"
   ]
  },
  {
   "cell_type": "code",
   "execution_count": null,
   "metadata": {},
   "outputs": [],
   "source": [
    "#Disconaries"
   ]
  },
  {
   "cell_type": "code",
   "execution_count": null,
   "metadata": {},
   "outputs": [],
   "source": [
    "#Data preprocessing\n",
    "1)EDA - info, describe, top, list of categorical and numberic columns\n",
    "2)Examine the business problem - Determine whether the data provided is sufficient for analysis\n",
    "3) Determine sata range \n",
    "4) covert time stamps to required formats\n",
    "5) univariate and bivariate analysis\n",
    "6) visualization - graphs\n",
    "7) histograms\n",
    "8) Skewness and kurtosis\n",
    "9) mean,median,mode\n",
    "\n",
    "Normal distribution and standard normal distribution difference\n",
    "\n",
    "1)Handling missing values (imputation)\n",
    "\n",
    "Outlier detection and removal - box plot \n",
    "determine correlation between variables\n",
    "Data normalization and standardization\n",
    "Data deduplication (removing duplicates)\n",
    "Handling inconsistent data formats"
   ]
  },
  {
   "cell_type": "code",
   "execution_count": null,
   "metadata": {},
   "outputs": [],
   "source": [
    "#List of linear regression models\n",
    "Simple Linear Regression\n",
    "Multiple Linear Regression\n",
    "Polynomial Regression\n",
    "Ridge Regression (L2 Regularization)\n",
    "Lasso Regression (L1 Regularization)\n",
    "ElasticNet Regression\n",
    "Quantile Regression\n",
    "Logistic Regression\n",
    "ElasticNet Regression\n",
    "Weighted Least Squares Regression\n",
    "Robust Regression\n",
    "Generalized Least Squares (GLS)\n",
    "Principal Component Regression (PCR)\n",
    "Partial Least Squares Regression (PLS)\n",
    "XgBoost\n",
    "adaboost"
   ]
  },
  {
   "cell_type": "code",
   "execution_count": null,
   "metadata": {},
   "outputs": [],
   "source": [
    "List of classification models:\n",
    "Logistic Regression\n",
    "Linear Discriminant Analysis (LDA)\n",
    "Support Vector Machines (SVM)\n",
    "Decision Trees\n",
    "Random Forest\n",
    "Gradient Boosting Machines (GBM)\n",
    "AdaBoost\n",
    "K-Nearest Neighbors (KNN)\n",
    "Naive Bayes\n",
    "Neural Networks\n",
    "Logistic Regression with L1 Regularization (Lasso)\n",
    "Logistic Regression with L2 Regularization (Ridge)\n"
   ]
  },
  {
   "cell_type": "raw",
   "metadata": {},
   "source": [
    "Clustering techniques:\n",
    "K-Means Clustering: K-Means is a partitioning clustering algorithm that divides data into 'k' clusters based on similarities in the feature space. It minimizes the sum of squared distances between data points and their respective cluster centroids.\n",
    "\n",
    "Hierarchical Clustering: Hierarchical clustering creates a tree of clusters by recursively merging or splitting them based on their similarity. It can produce a dendrogram that visualizes the clustering hierarchy.\n",
    "\n",
    "DBSCAN (Density-Based Spatial Clustering of Applications with Noise): DBSCAN groups together points that are closely packed together, identifying dense regions separated by sparse areas. It is robust to noise and can find clusters of arbitrary shapes.\n",
    "\n",
    "Gaussian Mixture Models (GMM): GMM assumes that the data is generated from a mixture of several Gaussian distributions. It models the data distribution as a weighted sum of Gaussian components and estimates the parameters using the Expectation-Maximization (EM) algorithm.\n",
    "\n",
    "Principal Component Analysis (PCA): PCA is a dimensionality reduction technique that identifies the directions (principal components) of maximum variance in the data. It projects the data onto a lower-dimensional subspace while retaining most of the original information.\n",
    "\n",
    "Independent Component Analysis (ICA): ICA separates a multivariate signal into additive, independent components. It assumes that the observed data is a linear combination of independent source signals and aims to recover these sources.\n",
    "\n",
    "Autoencoders: Autoencoders are neural network models trained to learn a compressed representation (encoding) of the input data. They consist of an encoder that compresses the data and a decoder that reconstructs the original input from the compressed representation. Variants like denoising autoencoders and variational autoencoders are used for unsupervised learning tasks.\n",
    "\n",
    "Self-Organizing Maps (SOM): SOM is a type of artificial neural network that produces a low-dimensional representation (typically a 2D grid) of the input space. It organizes data points based on their similarity and preserves the topological relationships between them.\n",
    "\n",
    "Association Rule Learning: Association rule learning discovers interesting associations or relationships among variables in large datasets. It is often used for market basket analysis, where frequent itemsets and association rules are mined from transactional data.\n",
    "\n",
    "Latent Dirichlet Allocation (LDA): LDA is a probabilistic generative model used for topic modeling and document clustering. It assumes that each document is a mixture of topics, and each word in the document is generated by one of the topics.\n",
    "\n",
    "t-Distributed Stochastic Neighbor Embedding (t-SNE): t-SNE is a dimensionality reduction technique used for visualizing high-dimensional data in a low-dimensional space (typically 2D or 3D). It aims to preserve the local structure of the data points, making it useful for exploratory data analysis and visualization.\n",
    "\n",
    "Hierarchical Density-Based Spatial Clustering (HDBSCAN): HDBSCAN is an extension of DBSCAN that constructs a hierarchical clustering based on varying density levels in the data. It automatically determines the number of clusters and identifies noise points."
   ]
  },
  {
   "cell_type": "raw",
   "metadata": {},
   "source": [
    "Coefficient of Determination (R-squared): R-squared measures the proportion of the variance in the dependent variable that is predictable from the independent variables. It ranges from 0 to 1, where 1 indicates a perfect fit. However, R-squared alone doesn't necessarily indicate the goodness of fit, and it can be biased by the number of predictors.\n",
    "\n",
    "Mean Absolute Error (MAE): MAE is the average of the absolute differences between the predicted values and the actual values. It provides a measure of the average magnitude of errors without considering their direction.\n",
    "\n",
    "Mean Squared Error (MSE): MSE is the average of the squared differences between the predicted values and the actual values. Squaring the errors penalizes larger errors more heavily than smaller ones.\n",
    "\n",
    "Root Mean Squared Error (RMSE): RMSE is the square root of the MSE. It is interpreted in the same units as the dependent variable, making it more interpretable compared to MSE.\n",
    "\n",
    "Residual Analysis: Residual analysis involves examining the residuals (the differences between observed and predicted values) to check for patterns or systematic errors. A scatter plot of residuals against predicted values or independent variables can help identify heteroscedasticity, nonlinearity, or outliers.\n",
    "\n",
    "Adjusted R-squared: Adjusted R-squared takes into account the number of predictors in the model, penalizing the inclusion of unnecessary variables. It provides a more accurate assessment of the model's goodness of fit, especially when comparing models with different numbers of predictors.\n",
    "\n",
    "F-statistic: The F-statistic tests the overall significance of the regression model by comparing the variability explained by the model to the unexplained variability. It assesses whether the regression coefficients are jointly significant.\n",
    "\n",
    "Durbin-Watson statistic: The Durbin-Watson statistic tests for the presence of autocorrelation in the residuals, which is important when dealing with time series data. A value close to 2 indicates no autocorrelation.\n",
    "\n",
    "Akaike Information Criterion (AIC) and Bayesian Information Criterion (BIC): AIC and BIC are measures of the relative quality of statistical models. They balance the goodness of fit with the complexity of the model, penalizing overfitting.\n",
    "\n",
    "Cross-Validation: Cross-validation techniques, such as k-fold cross-validation, assess the model's performance on unseen data by partitioning the dataset into multiple subsets for training and testing."
   ]
  },
  {
   "cell_type": "code",
   "execution_count": null,
   "metadata": {},
   "outputs": [],
   "source": []
  }
 ],
 "metadata": {
  "kernelspec": {
   "display_name": "Python 2",
   "language": "python",
   "name": "python2"
  },
  "language_info": {
   "codemirror_mode": {
    "name": "ipython",
    "version": 2
   },
   "file_extension": ".py",
   "mimetype": "text/x-python",
   "name": "python",
   "nbconvert_exporter": "python",
   "pygments_lexer": "ipython2",
   "version": "2.7.16"
  }
 },
 "nbformat": 4,
 "nbformat_minor": 2
}
